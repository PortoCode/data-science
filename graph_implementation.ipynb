{
  "nbformat": 4,
  "nbformat_minor": 0,
  "metadata": {
    "colab": {
      "provenance": [],
      "collapsed_sections": []
    },
    "kernelspec": {
      "name": "python3",
      "display_name": "Python 3"
    },
    "language_info": {
      "name": "python"
    }
  },
  "cells": [
    {
      "cell_type": "markdown",
      "source": [
        "# **This notebook contains the implementation of a class for handling graphs.**"
      ],
      "metadata": {
        "id": "192NhDgBNMYh"
      }
    },
    {
      "cell_type": "markdown",
      "source": [
        "## **Graph implementation**"
      ],
      "metadata": {
        "id": "XEPSZU6Yfc8f"
      }
    },
    {
      "cell_type": "code",
      "execution_count": 50,
      "metadata": {
        "id": "kcwwUV_hMmyK"
      },
      "outputs": [],
      "source": [
        "from collections import defaultdict\n",
        "\n",
        "\n",
        "class Graph(object):\n",
        "  # basic implementation of a graph\n",
        "\n",
        "  def __init__(self, edges, directed=False):\n",
        "    # initializes the base structures of the graph\n",
        "    self.adj = defaultdict(set)\n",
        "    self.directed = directed\n",
        "    self.add_edges(edges)\n",
        "\n",
        "\n",
        "  def get_vertices(self):\n",
        "    # returns the list of graph vertices\n",
        "    return list(self.adj.keys())\n",
        "\n",
        "\n",
        "  def get_edges(self):\n",
        "    # returns the list of edges of the graph\n",
        "    return [(k, v) for k in self.adj.keys() for v in self.adj[k]]\n",
        "\n",
        "\n",
        "  def get_adj_list(self):\n",
        "    # returns the adjacency list\n",
        "    return self.adj\n",
        "\n",
        "\n",
        "  def add_edges(self, edges):\n",
        "    # add edges to the graph\n",
        "    for u, v in edges:\n",
        "        self.add_arc(u, v)\n",
        "\n",
        "\n",
        "  def add_arc(self, u, v):\n",
        "    # adds a link (arc) between nodes 'u' and 'v'\n",
        "    self.adj[u].add(v)\n",
        "    # if the graph is undirected, we need to add arcs in both directions\n",
        "    if not self.directed:\n",
        "        self.adj[v].add(u)\n",
        "\n",
        "\n",
        "  def there_is_edge(self, u, v):\n",
        "    # is there an edge between vertices 'u' and 'v'?\n",
        "    return u in self.adj and v in self.adj[u]\n",
        "\n",
        "\n",
        "  def __len__(self):\n",
        "    # returns the size of the graph\n",
        "    return len(self.adj)\n",
        "\n",
        "\n",
        "  def __str__(self):\n",
        "    # returns the structure of the graph in string\n",
        "    return '{}({})'.format(self.__class__.__name__, dict(self.adj))\n",
        "\n",
        "\n",
        "  def __getitem__(self, v):\n",
        "    # returns the nodes linked to the graph\n",
        "    return self.adj[v]\n"
      ]
    },
    {
      "cell_type": "markdown",
      "source": [
        "### **Testing graph implementation**"
      ],
      "metadata": {
        "id": "QZnhThf5NlVf"
      }
    },
    {
      "cell_type": "code",
      "source": [
        "# create the list of edges\n",
        "edges = [('A', 'B'), ('B', 'C'), ('B', 'D'), ('B', 'F'), ('C', 'B'), ('C', 'E'), ('D', 'A'), ('E', 'B')]\n",
        "\n",
        "# create and print the graph\n",
        "grafo = Graph(edges, directed=True)\n",
        "print(grafo.adj)\n",
        "print(grafo)\n",
        "print(f'Number of nodes: {len(grafo)}')\n",
        "print(f'Nodes linked to node \"B\": {grafo[\"B\"]}')"
      ],
      "metadata": {
        "colab": {
          "base_uri": "https://localhost:8080/"
        },
        "id": "r1sGMQ6QM9O4",
        "outputId": "403f8c3d-bc7a-41fd-963d-b115cc35a0e6"
      },
      "execution_count": 71,
      "outputs": [
        {
          "output_type": "stream",
          "name": "stdout",
          "text": [
            "defaultdict(<class 'set'>, {'A': {'B'}, 'B': {'C', 'D', 'F'}, 'C': {'B', 'E'}, 'D': {'A'}, 'E': {'B'}})\n",
            "Graph({'A': {'B'}, 'B': {'C', 'D', 'F'}, 'C': {'B', 'E'}, 'D': {'A'}, 'E': {'B'}})\n",
            "Number of nodes: 5\n",
            "Nodes linked to node \"B\": {'C', 'D', 'F'}\n"
          ]
        }
      ]
    },
    {
      "cell_type": "code",
      "source": [
        "print(grafo.get_vertices())"
      ],
      "metadata": {
        "colab": {
          "base_uri": "https://localhost:8080/"
        },
        "id": "xQ8KAnpWNCxY",
        "outputId": "6d034ba0-77fc-40e4-d1b6-7d93bf14b7c4"
      },
      "execution_count": 72,
      "outputs": [
        {
          "output_type": "stream",
          "name": "stdout",
          "text": [
            "['A', 'B', 'C', 'D', 'E']\n"
          ]
        }
      ]
    },
    {
      "cell_type": "code",
      "source": [
        "print(grafo.get_edges())"
      ],
      "metadata": {
        "colab": {
          "base_uri": "https://localhost:8080/"
        },
        "id": "73dvvLoaNFgK",
        "outputId": "1dd1377f-30c1-4b18-d429-aa1b62135d4e"
      },
      "execution_count": 73,
      "outputs": [
        {
          "output_type": "stream",
          "name": "stdout",
          "text": [
            "[('A', 'B'), ('B', 'C'), ('B', 'D'), ('B', 'F'), ('C', 'B'), ('C', 'E'), ('D', 'A'), ('E', 'B')]\n"
          ]
        }
      ]
    },
    {
      "cell_type": "code",
      "source": [
        "print(grafo.there_is_edge('A', 'B'), grafo.there_is_edge('E', 'C'))"
      ],
      "metadata": {
        "colab": {
          "base_uri": "https://localhost:8080/"
        },
        "id": "Kj5eVncENG3-",
        "outputId": "1b8a874c-5c17-472c-fd69-004b630c4c16"
      },
      "execution_count": 74,
      "outputs": [
        {
          "output_type": "stream",
          "name": "stdout",
          "text": [
            "True False\n"
          ]
        }
      ]
    },
    {
      "cell_type": "code",
      "source": [
        "grafo.get_adj_list()"
      ],
      "metadata": {
        "colab": {
          "base_uri": "https://localhost:8080/"
        },
        "id": "Eu3AW4jaWIfm",
        "outputId": "6dee0146-61f2-45bc-d150-e1f444842326"
      },
      "execution_count": 75,
      "outputs": [
        {
          "output_type": "execute_result",
          "data": {
            "text/plain": [
              "defaultdict(set,\n",
              "            {'A': {'B'},\n",
              "             'B': {'C', 'D', 'F'},\n",
              "             'C': {'B', 'E'},\n",
              "             'D': {'A'},\n",
              "             'E': {'B'}})"
            ]
          },
          "metadata": {},
          "execution_count": 75
        }
      ]
    },
    {
      "cell_type": "markdown",
      "source": [
        "## **Viewing the graph**"
      ],
      "metadata": {
        "id": "uXozxNz4fnAJ"
      }
    },
    {
      "cell_type": "markdown",
      "source": [
        "**Let's use the NetworkX library to manipulate the created graph. We will also use the Matplotlib library to visualize the developed graph.**"
      ],
      "metadata": {
        "id": "QDimvAiFeps0"
      }
    },
    {
      "cell_type": "code",
      "source": [
        "import networkx as nx\n",
        "import matplotlib.pyplot as plt\n",
        "\n",
        "G = nx.Graph(grafo.get_adj_list())\n",
        "nx.draw_networkx(G, with_labels = True, node_color = \"c\", edge_color = \"k\", font_size = 8)\n",
        "\n",
        "plt.axis('off')\n",
        "plt.draw()\n",
        "plt.savefig(\"graph.pdf\")"
      ],
      "metadata": {
        "colab": {
          "base_uri": "https://localhost:8080/",
          "height": 248
        },
        "id": "7NN1s5FbUPYu",
        "outputId": "395effa9-640e-4644-aa76-36c9847b290f"
      },
      "execution_count": 76,
      "outputs": [
        {
          "output_type": "display_data",
          "data": {
            "text/plain": [
              "<Figure size 432x288 with 1 Axes>"
            ],
            "image/png": "[encoded data removed]"
          },
          "metadata": {}
        }
      ]
    }
  ]
}